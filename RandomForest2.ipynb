{
  "nbformat": 4,
  "nbformat_minor": 0,
  "metadata": {
    "colab": {
      "provenance": [],
      "authorship_tag": "ABX9TyMAS0Ie3SHMAaY8tqJSzcsq",
      "include_colab_link": true
    },
    "kernelspec": {
      "name": "python3",
      "display_name": "Python 3"
    },
    "language_info": {
      "name": "python"
    }
  },
  "cells": [
    {
      "cell_type": "markdown",
      "metadata": {
        "id": "view-in-github",
        "colab_type": "text"
      },
      "source": [
        "<a href=\"https://colab.research.google.com/github/krishds20/Random-Forest/blob/main/RandomForest2.ipynb\" target=\"_parent\"><img src=\"https://colab.research.google.com/assets/colab-badge.svg\" alt=\"Open In Colab\"/></a>"
      ]
    },
    {
      "cell_type": "code",
      "execution_count": null,
      "metadata": {
        "id": "1qi9-p5z9X4F"
      },
      "outputs": [],
      "source": [
        "import pandas as pd\n",
        "import numpy as np\n",
        "import random"
      ]
    },
    {
      "cell_type": "code",
      "source": [
        "from sklearn.model_selection import train_test_split\n",
        "from sklearn.compose import ColumnTransformer\n",
        "from sklearn.preprocessing import OneHotEncoder,StandardScaler,LabelEncoder\n",
        "from sklearn.metrics import accuracy_score,precision_score,f1_score,recall_score"
      ],
      "metadata": {
        "id": "p70S68Gn9pLf"
      },
      "execution_count": null,
      "outputs": []
    },
    {
      "cell_type": "code",
      "source": [
        "df=pd.read_csv('/content/sample_data/drug adverse reaction.csv')"
      ],
      "metadata": {
        "id": "RynrLiJQ9pIE"
      },
      "execution_count": null,
      "outputs": []
    },
    {
      "cell_type": "code",
      "source": [
        "df.info()"
      ],
      "metadata": {
        "colab": {
          "base_uri": "https://localhost:8080/"
        },
        "id": "ATBNyjr89pFh",
        "outputId": "c6f4586a-5c37-4d82-92b5-446595b6ef48"
      },
      "execution_count": null,
      "outputs": [
        {
          "output_type": "stream",
          "name": "stdout",
          "text": [
            "<class 'pandas.core.frame.DataFrame'>\n",
            "RangeIndex: 7386 entries, 0 to 7385\n",
            "Data columns (total 11 columns):\n",
            " #   Column                Non-Null Count  Dtype  \n",
            "---  ------                --------------  -----  \n",
            " 0   age                   7386 non-null   int64  \n",
            " 1   sex                   7386 non-null   object \n",
            " 2   height_cm             7386 non-null   float64\n",
            " 3   weight_kg             7386 non-null   float64\n",
            " 4   BMI                   7386 non-null   float64\n",
            " 5   medical_history       5927 non-null   object \n",
            " 6   drug_name             7386 non-null   object \n",
            " 7   condition             7386 non-null   object \n",
            " 8   dosage_mg             7386 non-null   int64  \n",
            " 9   side_effect           6332 non-null   object \n",
            " 10  side_effect_severity  6332 non-null   object \n",
            "dtypes: float64(3), int64(2), object(6)\n",
            "memory usage: 634.9+ KB\n"
          ]
        }
      ]
    },
    {
      "cell_type": "code",
      "source": [
        "df['side_effect']=df['side_effect'].fillna('No Side Efffect')"
      ],
      "metadata": {
        "id": "HDf62uKO9pCs"
      },
      "execution_count": null,
      "outputs": []
    },
    {
      "cell_type": "code",
      "source": [
        "features=['age','sex','height_cm','weight_kg','BMI','medical_history','drug_name','dosage_mg']\n",
        "x=df[features]\n",
        "y=df['side_effect']"
      ],
      "metadata": {
        "id": "P16udwW-9o_l"
      },
      "execution_count": null,
      "outputs": []
    },
    {
      "cell_type": "code",
      "source": [
        "le=LabelEncoder()\n",
        "y_encoded=le.fit_transform(y)"
      ],
      "metadata": {
        "id": "oXcxTujZ9xix"
      },
      "execution_count": null,
      "outputs": []
    },
    {
      "cell_type": "code",
      "source": [
        "num_features=['age','height_cm','weight_kg','BMI','dosage_mg']\n",
        "cat_features=['sex','medical_history','drug_name']"
      ],
      "metadata": {
        "id": "Dsql8adj9xfd"
      },
      "execution_count": null,
      "outputs": []
    },
    {
      "cell_type": "code",
      "source": [
        "preprocessor=ColumnTransformer(\n",
        "    transformers=[\n",
        "        ('num',StandardScaler(),num_features),\n",
        "        ('cat',OneHotEncoder(handle_unknown='ignore'),cat_features)\n",
        "    ]\n",
        ")"
      ],
      "metadata": {
        "id": "N6us_fx59xcw"
      },
      "execution_count": null,
      "outputs": []
    },
    {
      "cell_type": "code",
      "source": [
        "X_transformed=preprocessor.fit_transform(x)\n"
      ],
      "metadata": {
        "id": "RBFVz3PC97iN"
      },
      "execution_count": null,
      "outputs": []
    },
    {
      "cell_type": "code",
      "source": [
        "x_train,x_test,y_train,y_test=train_test_split(X_transformed,y_encoded,test_size=0.2,random_state=42)"
      ],
      "metadata": {
        "id": "sq08Qj0M97eu"
      },
      "execution_count": null,
      "outputs": []
    },
    {
      "cell_type": "code",
      "source": [
        "from sklearn.ensemble import RandomForestClassifier"
      ],
      "metadata": {
        "id": "se5J9Bak97b7"
      },
      "execution_count": null,
      "outputs": []
    },
    {
      "cell_type": "code",
      "source": [
        "models={\n",
        "    'Random Forest':RandomForestClassifier(n_estimators=100,random_state=42),\n",
        "}"
      ],
      "metadata": {
        "id": "pU4kD8Pe97ZP"
      },
      "execution_count": null,
      "outputs": []
    },
    {
      "cell_type": "code",
      "source": [
        "print(\"=== scikit-learn Model Results (Predicting Side Effect) ===\")\n",
        "for name, model in models.items():\n",
        "  model.fit(x_train,y_train)\n",
        "  y_pred=model.predict(x_test)\n",
        "  print(f\"{name} Metrics:\")\n",
        "  print(f\"Accuracy: {accuracy_score(y_test,y_pred)}\")\n",
        "  print(f\"Precision: {precision_score(y_test,y_pred,average='weighted')}\")\n",
        "  print(f\"Recall: {recall_score(y_test,y_pred,average='weighted')}\")\n",
        "  print(f\"F1 Score: {f1_score(y_test,y_pred,average='weighted')}\")\n",
        "  print( )"
      ],
      "metadata": {
        "colab": {
          "base_uri": "https://localhost:8080/"
        },
        "id": "HtGgrwHm-JvN",
        "outputId": "0bc681f5-cd9c-4304-9478-150026a65830"
      },
      "execution_count": null,
      "outputs": [
        {
          "output_type": "stream",
          "name": "stdout",
          "text": [
            "=== scikit-learn Model Results (Predicting Side Effect) ===\n",
            "Random Forest Metrics:\n",
            "Accuracy: 0.2604871447902571\n",
            "Precision: 0.26189835017795926\n",
            "Recall: 0.2604871447902571\n",
            "F1 Score: 0.2513495330641678\n",
            "\n"
          ]
        }
      ]
    },
    {
      "cell_type": "code",
      "source": [
        "#making prediction\n",
        "new_data = {\n",
        "    'age': [30],\n",
        "    'sex': ['Female'],\n",
        "    'height_cm': [160],\n",
        "    'weight_kg': [55],\n",
        "    'BMI': [21.5],\n",
        "    'medical_history': ['Diabetes'],\n",
        "    'drug_name': ['Zolpidem'],\n",
        "    'condition': ['Insomnia'],\n",
        "    'dosage_mg': [100],\n",
        "}"
      ],
      "metadata": {
        "id": "9DjkTK23-Jrq"
      },
      "execution_count": null,
      "outputs": []
    },
    {
      "cell_type": "code",
      "source": [
        "new_df = pd.DataFrame(new_data)\n",
        "new_data_transformed = preprocessor.transform(new_df)"
      ],
      "metadata": {
        "id": "ZnpxatbJ-Jo2"
      },
      "execution_count": null,
      "outputs": []
    },
    {
      "cell_type": "code",
      "source": [
        "print(\"=== scikit-learn Models Predictions ===\")\n",
        "for name, model in models.items():\n",
        "    pred = model.predict(new_data_transformed)\n",
        "\n",
        "    pred_label = le.inverse_transform(pred)\n",
        "    print(f\"{name} Prediction: {pred_label[0]}\")"
      ],
      "metadata": {
        "id": "5_XcMW5n-Jmb",
        "colab": {
          "base_uri": "https://localhost:8080/"
        },
        "outputId": "e519be16-1234-452f-b21f-e1da5bf9a8d5"
      },
      "execution_count": null,
      "outputs": [
        {
          "output_type": "stream",
          "name": "stdout",
          "text": [
            "=== scikit-learn Models Predictions ===\n",
            "Random Forest Prediction: headache\n"
          ]
        }
      ]
    },
    {
      "cell_type": "code",
      "source": [],
      "metadata": {
        "id": "yKPLjQMm-JkF"
      },
      "execution_count": null,
      "outputs": []
    }
  ]
}